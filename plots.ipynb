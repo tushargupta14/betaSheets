{
 "cells": [
  {
   "cell_type": "markdown",
   "metadata": {},
   "source": [
    "## Generating plots for binning the curvature values \n"
   ]
  },
  {
   "cell_type": "code",
   "execution_count": 2,
   "metadata": {
    "collapsed": true
   },
   "outputs": [],
   "source": [
    "path_to_pdb_list = \"all_beta_sheets\"\n",
    "path_to_json_files = \"allBeta_data/curvature/\"\n",
    "\n",
    "path_to_along = path_to_json_files+\"along/\"\n",
    "path_to_across = path_to_json_files+\"across/\""
   ]
  },
  {
   "cell_type": "code",
   "execution_count": null,
   "metadata": {
    "collapsed": true
   },
   "outputs": [],
   "source": [
    "file = open(path_to_pdb_list,\"rb+\")\n",
    "\n",
    "for line in file :\n",
    "\n",
    "    vals = line.split(\" \")\n",
    "    if \"IDs\" in vals[0] :\n",
    "        continue\n",
    "    #print vals[0]\n",
    "    pdb_name = vals[0][:4]\n",
    "\n",
    "    chain =  vals[0][-1]\n",
    "\n",
    "    pdb_name = pdb_name.lower()\n",
    "\n",
    "    print pdb_name,\"-\",chain\n",
    "    ## retrieving strand data\n",
    "\n",
    "    sheet_dict_along = json.load(open(path_to_along+pdb_name+\"_\"+chain+\".json\",\"rb+\"))\n",
    "\n",
    "    plot_info_along(pdb_name,chain,sheet_dict_along)\n",
    "\n",
    "    sheet_dict_across = json.load(open(path_to_across+pdb_name+\"_\"+chain+\".json\",\"rb+\"))\n",
    "\n",
    "    plot_info_across(pdb_name,chain,sheet_dict_across)\n",
    "    \n",
    "    #break"
   ]
  }
 ],
 "metadata": {
  "kernelspec": {
   "display_name": "Python [Root]",
   "language": "python",
   "name": "Python [Root]"
  },
  "language_info": {
   "codemirror_mode": {
    "name": "ipython",
    "version": 2
   },
   "file_extension": ".py",
   "mimetype": "text/x-python",
   "name": "python",
   "nbconvert_exporter": "python",
   "pygments_lexer": "ipython2",
   "version": "2.7.12"
  }
 },
 "nbformat": 4,
 "nbformat_minor": 2
}
